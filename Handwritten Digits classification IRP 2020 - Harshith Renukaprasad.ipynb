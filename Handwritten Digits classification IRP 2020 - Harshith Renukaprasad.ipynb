{
 "cells": [
  {
   "cell_type": "markdown",
   "metadata": {},
   "source": [
    "# How increasing the amount of training data for a machine learning algorithm that recognizes handwritten digits increases the accuracy of the algorithm."
   ]
  },
  {
   "cell_type": "markdown",
   "metadata": {},
   "source": [
    "## By Harshith Renukaprasad"
   ]
  },
  {
   "cell_type": "markdown",
   "metadata": {},
   "source": [
    "Machine learning is the scientific study of algorithms ancd statistical models that computers use to perform a specific task without a human explicitly asking it to do so. Practically, this means giving the computer a training set of images for the computer to learn the difference between a 3 and an 8 for example, and then give the image an image of a 3 it has not seen before and predict what number it is based on what it has learnt. "
   ]
  },
  {
   "cell_type": "markdown",
   "metadata": {},
   "source": [
    "The **Goal of the project is to progressively increase the amount of training images available to the computer from  100 to 50,000 and document the increased accuracy and decreased loss of the algorithm.**"
   ]
  },
  {
   "cell_type": "markdown",
   "metadata": {},
   "source": [
    "Materials required for the project:\n",
    "\n",
    "Disclaimer: Most of the materials included are digital.\n",
    "\n",
    "Another Disclaimer: This project was done on Visual Studio Code, but is submitted/presented in Jupyter notebook for the users ease in readablity.\n",
    "\n",
    "1. The first and foremost thing required for this project is a computer with  [Visual Studio Code ](https://code.visualstudio.com/download) (200  megabytes, Windows 64 bit) installed. Note that the computer needs to  have atleast 1 gigabyte of ram and 5 gigabytes of storage available. The computer, very importantly, also requires a stable internet connection. Finally, [Python 3.7.6](https://www.python.org/ftp/python/3.7.6/python-3.7.6-amd64.exe) (downloaded, and added to path throught the installer)needs to be installed on the system\n",
    "\n",
    "\n",
    "2. A google account to login to the websites [Hackerrank](https://www.hackerrank.com/), and [Youtube](https://www.youtube.com/channel/UCCezIgC97PvUuR4_gbFUs5g). Hackerrank is a very popular website used to practice python, since this whole project is written using the language Python (version 3.7.6). Youtube is required to actually learn the language and the hyperlink on the word \"Youtube\" earlier links to a channel called Corey Schafer, from which all the learning for python, and its various packages were done.\n",
    "\n",
    "\n",
    "3. Speaking of packages, the there are only 4 packages required for this project which are Keras, Sklearn, pandas, matplotlib and finally tensorflow. All of these can be installed by opening up Visual Studio Code, opening a new terminal by clicking on terminal on the top taskbar, and typing in \"pip install keras\", wait for it to install, \"pip install sklearn\", waiting for Sklearn to install, and finally \"pip install tensorflow\", and allow tensorflow(make sure version 2.1.0 is installing) to finish installing. Pandas and Matplotlib can be installed using the same \"pip install \" command. Do the same with  Note that the full extent of some packages are not used, rather a parts of it or \"Modules\" are used.\n",
    "\n",
    "\n",
    "4. A lot of time, around 100 to 120 hours of work are required to finish the project. 60 hours are required to learn python, 20 to learn about machine learning and another 20 hours to actually code. This may take longer or shorter depending on the amount of coding/python known. \n",
    "\n",
    "\n",
    "5. A website known as [Markdown Tables gererator](https://www.tablesgenerator.com/markdown_tables) which allows for the data table of this project to be created and embedded into the markdown cells(text cells instead of code cells) with ease.\n",
    "\n",
    "\n",
    "6. Also, this project has a link further on to the mnist database of handwritten numbers, but that is just for ease of access, as keras has a module through which mnist can be imported.\n"
   ]
  },
  {
   "cell_type": "markdown",
   "metadata": {},
   "source": [
    "Safety precautions or Collection Concerns: None"
   ]
  },
  {
   "cell_type": "markdown",
   "metadata": {},
   "source": [
    "The data from the final iteration of the project is collected using an algorithm in the algorithm. Akin to a data collection journal, the program has an initialized dictionary, or a set of values that are updated for each data set(For example 1000 images, or 2000 images  for training). Each data set is like a different entry into the dictionary, with its own results. The algorithm/formula uses a for loop to test each data set and at the end, the results are appended into the dictionary. This ensures that no data is lost, and everything is collected."
   ]
  },
  {
   "cell_type": "markdown",
   "metadata": {},
   "source": [
    "## Procedure"
   ]
  },
  {
   "cell_type": "markdown",
   "metadata": {},
   "source": [
    "**Important!: The procedure details the actual coding part of the project, assuming that the reader already knows python and has installed all of the packages necessary.**"
   ]
  },
  {
   "cell_type": "markdown",
   "metadata": {},
   "source": [
    "## Step 1: import all the necessary packages and modules"
   ]
  },
  {
   "cell_type": "code",
   "execution_count": 1,
   "metadata": {},
   "outputs": [
    {
     "name": "stderr",
     "output_type": "stream",
     "text": [
      "Using TensorFlow backend.\n"
     ]
    }
   ],
   "source": [
    "import keras\n",
    "from keras.datasets import mnist\n",
    "from keras.models import Sequential\n",
    "from keras.layers import Dense, Dropout, Flatten\n",
    "from keras.layers import Conv2D, MaxPooling2D\n",
    "from keras import backend as K\n",
    "from sklearn import datasets, svm, metrics\n",
    "from sklearn.model_selection import train_test_split\n",
    "import matplotlib.pyplot as plt\n",
    "import pandas as pd"
   ]
  },
  {
   "cell_type": "markdown",
   "metadata": {},
   "source": [
    "This may seem like a lot, but it's actually not. Using just 3 packages, keras(Tensorflow is used by keras, and so it is neccessary to install tensorflow) pandas, sklearn, all the modules and everything needed for this project is imported. The main things to take not of from keras are mnist, and conv2d. [Mnist](http://yann.lecun.com/exdb/mnist/) is the database from which the labeled numerical digits are imported. Conv2d is just a module which helps to build a convolutional neural network(Refer to the image below). From sklearn, the main module to be noted is train_test_split, which allows us to vary the amount of training data. Pandas and matplotlib are used for data plotting and making a data table internally."
   ]
  },
  {
   "cell_type": "markdown",
   "metadata": {},
   "source": [
    "Image of a convolutional neural network:\n",
    "\n",
    "![Image of a convolutional neural network](https://cdn-images-1.medium.com/fit/t/1600/480/1*vkQ0hXDaQv57sALXAJquxA.jpeg)"
   ]
  },
  {
   "cell_type": "markdown",
   "metadata": {},
   "source": [
    "## Step 2: Write a function to load the MNIST database into training and testing variables."
   ]
  },
  {
   "cell_type": "code",
   "execution_count": 2,
   "metadata": {},
   "outputs": [],
   "source": [
    "def load_mnist_data(test_size_per):\n",
    "    (x_train, y_train), (x_test, y_test) = mnist.load_data()\n",
    "    print(x_train.shape, y_train.shape)\n",
    "    x_train, x_test, y_train, y_test = train_test_split(\n",
    "    x_train, y_train, test_size=test_size_per)\n",
    "    print(x_train.shape)\n",
    "    return x_train, y_train, x_test, y_test "
   ]
  },
  {
   "cell_type": "markdown",
   "metadata": {},
   "source": [
    "Now to get into the actual coding bit of the project. This is one of 3 functions in this project. The name of it being \"load_minst_data\". This does exactly what the name suggests and loads the variables with training and test data. The variables being x_train, y_train, x_test, and y_test. x and y are not coordinates, but rather x is the input and y is the output. The training variables, x_train, and  y_train are where all the training images that the computer uses to learn are kept. While x_test, and y_test are where the testing images are kept. These images are what the computer tests itself on to refine the algorithm. There are 60,000 images in the mnist database and by default, 50,000 are kept for training and the remaining 10,000 are used as testing images. on the 4th and 5th lines of the cell, the function train_test_split() is used to split the data into training and testing images by taking a percentage value which is then applied to the database and made into the test set. For example, if the percentage is given as 0.5 or 50%, 30,000 images would be used as testing and 30,000 for training. This is not a set value however, there is a parameter known as test_size_per which allows the percentage to be changed every time the function is called upon."
   ]
  },
  {
   "cell_type": "markdown",
   "metadata": {},
   "source": [
    "The following image shows a sample image from the mnist database."
   ]
  },
  {
   "cell_type": "markdown",
   "metadata": {},
   "source": [
    "![Handwritten 8 in the MNIST database](https://miro.medium.com/max/490/1*nlfLUgHUEj5vW7WVJpxY-g.png)"
   ]
  },
  {
   "cell_type": "markdown",
   "metadata": {},
   "source": [
    "Notice that the image is graphed and has a size of 28  x 28"
   ]
  },
  {
   "cell_type": "markdown",
   "metadata": {},
   "source": [
    "## Step 3: Write a function to reshape, and prepare all the images uniformly for input into the algorithm."
   ]
  },
  {
   "cell_type": "code",
   "execution_count": 3,
   "metadata": {},
   "outputs": [],
   "source": [
    "def prepare_input(x_train, y_train, x_test, y_test):\n",
    "    x_train = x_train.reshape(x_train.shape[0], 28, 28, 1)\n",
    "    x_test = x_test.reshape(x_test.shape[0], 28, 28, 1)\n",
    "    \n",
    "    # convert class vectors to binary class matrices\n",
    "    y_train = keras.utils.to_categorical(y_train, 10)\n",
    "    y_test = keras.utils.to_categorical(y_test, 10)\n",
    "\n",
    "    x_train = x_train.astype('float32')\n",
    "    x_test = x_test.astype('float32')\n",
    "    x_train /= 255\n",
    "    x_test /= 255\n",
    "    print('x_train shape:', x_train.shape)\n",
    "    print(x_train.shape[0], 'train samples')\n",
    "    print(x_test.shape[0], 'test samples')\n",
    "    return x_train, y_train, x_test, y_test"
   ]
  },
  {
   "cell_type": "markdown",
   "metadata": {},
   "source": [
    "This is one of the most important parts of the whole algorithm, second only to the actual machine learning part itself. All the images are now reshaped into 28 x 28, just in case some of them were not that size. Furthermore, this uniformity allows the computer to look at all of the images consistently the same. Furthermore, all the images are shuffled, so that certain patterns and exclusions of digits do not occur, therefore removing the chance that the computer's \"learning\" is skewed. In summation, this function allows for the uniformity of the images so that the computer sees every image equally and is not skewed by unnatural patterns such as the abscence of a certain digit."
   ]
  },
  {
   "cell_type": "markdown",
   "metadata": {},
   "source": [
    "## Step 4: Writing a function to setup the model, train the model, and save the model."
   ]
  },
  {
   "cell_type": "code",
   "execution_count": 4,
   "metadata": {},
   "outputs": [],
   "source": [
    "def setup_model(x_train, y_train, x_test, y_test ):\n",
    "    batch_size = 128\n",
    "    num_classes = 10\n",
    "    epochs = 10\n",
    "\n",
    "    input_shape = (28, 28, 1)\n",
    "    model = Sequential()\n",
    "    model.add(Conv2D(32, kernel_size=(5, 5),activation='relu',input_shape=input_shape))\n",
    "    model.add(MaxPooling2D(pool_size=(2, 2)))\n",
    "    model.add(Conv2D(64, (3, 3), activation='relu'))\n",
    "    model.add(MaxPooling2D(pool_size=(2, 2)))\n",
    "    model.add(Flatten())\n",
    "    model.add(Dense(128, activation='relu'))\n",
    "    model.add(Dropout(0.3))\n",
    "    model.add(Dense(64, activation='relu'))\n",
    "    model.add(Dropout(0.5))\n",
    "    model.add(Dense(num_classes, activation='softmax'))\n",
    "\n",
    "    model.compile(loss=keras.losses.categorical_crossentropy,optimizer=keras.optimizers.Adadelta(),metrics=['accuracy'])\n",
    "\n",
    "    hist = model.fit(x_train, y_train,batch_size=batch_size,epochs=epochs,verbose=1,validation_data=(x_test, y_test))\n",
    "    print(\"The model has successfully trained\")\n",
    "\n",
    "    score = model.evaluate(x_test, y_test, verbose=0)\n",
    "    \n",
    "\n",
    "    model.save('mnist.h5')\n",
    "    print(\"Saving the model as mnist.h5\")\n",
    "\n",
    "    return score"
   ]
  },
  {
   "cell_type": "markdown",
   "metadata": {},
   "source": [
    "This function is what sets up a model(convolutional neural network), and trains it with the training set. This is still a function, and is not executing anything, so no output is given. The way a machine learning model learns/trains itself is that it uses differential calculus. Bascially, an inverse parabola is graphed internally, called the gradient descent that allows the computer to see where it is. The x axis is the answer that it is guessing. For example, an eight is given as an input, and the computer guesses that it's a 5. Now, that is the wrong answer, but atleast the computer now knows that the eight is not a 5. The y axis is the cost. Basically the higher the cost, the farther the model is from the answer. Graphing this would show an inverse parabola, where the answer(the number eight in the example) on the x axis, and the lowest value on the y axis(the cost) are located. The end goal of the model is to reach that low point. once it does, and it gets a problem correct, it moves on and uses the same formula that it used for the previous one. Basically, the computer at first uses random values, and then narrows it down to the correct value, and uses the formula that got it the correct values. This is all calculated in a matter of mere seconds though. This is why a larger training set, like common sense would tell us, makes the computer more accurate in its learning and testing. Below is an image of the gradient descent.  "
   ]
  },
  {
   "cell_type": "markdown",
   "metadata": {},
   "source": [
    "![Image of Gradient Descent](data:image/png;base64,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)"
   ]
  },
  {
   "cell_type": "markdown",
   "metadata": {},
   "source": [
    "## Step 6: Executing the functions in a for loop, so that each iteration, a bigger training set is used"
   ]
  },
  {
   "cell_type": "code",
   "execution_count": 5,
   "metadata": {
    "scrolled": false
   },
   "outputs": [
    {
     "name": "stdout",
     "output_type": "stream",
     "text": [
      "0.9991666666666666\n",
      "(60000, 28, 28) (60000,)\n",
      "(50, 28, 28)\n",
      "Testing with train set size of:  (50, 28, 28)\n",
      "x_train shape: (50, 28, 28, 1)\n",
      "50 train samples\n",
      "59950 test samples\n",
      "Train on 50 samples, validate on 59950 samples\n",
      "Epoch 1/10\n",
      "50/50 [==============================] - 13s 265ms/step - loss: 2.3215 - accuracy: 0.0600 - val_loss: 2.2866 - val_accuracy: 0.1443\n",
      "Epoch 2/10\n",
      "50/50 [==============================] - 11s 223ms/step - loss: 2.2901 - accuracy: 0.1000 - val_loss: 2.2736 - val_accuracy: 0.1969\n",
      "Epoch 3/10\n",
      "50/50 [==============================] - 10s 210ms/step - loss: 2.2614 - accuracy: 0.1800 - val_loss: 2.2691 - val_accuracy: 0.1252\n",
      "Epoch 4/10\n",
      "50/50 [==============================] - 11s 214ms/step - loss: 2.2239 - accuracy: 0.1400 - val_loss: 2.2404 - val_accuracy: 0.1418\n",
      "Epoch 5/10\n",
      "50/50 [==============================] - 12s 244ms/step - loss: 2.1662 - accuracy: 0.2200 - val_loss: 2.2253 - val_accuracy: 0.1403\n",
      "Epoch 6/10\n",
      "50/50 [==============================] - 11s 225ms/step - loss: 2.2333 - accuracy: 0.1800 - val_loss: 2.1946 - val_accuracy: 0.1129\n",
      "Epoch 7/10\n",
      "50/50 [==============================] - 11s 220ms/step - loss: 2.1046 - accuracy: 0.3000 - val_loss: 2.1694 - val_accuracy: 0.1655\n",
      "Epoch 8/10\n",
      "50/50 [==============================] - 11s 220ms/step - loss: 2.0606 - accuracy: 0.3400 - val_loss: 2.1586 - val_accuracy: 0.1880\n",
      "Epoch 9/10\n",
      "50/50 [==============================] - 11s 219ms/step - loss: 2.2045 - accuracy: 0.2200 - val_loss: 2.1374 - val_accuracy: 0.2622\n",
      "Epoch 10/10\n",
      "50/50 [==============================] - 11s 221ms/step - loss: 2.1128 - accuracy: 0.1800 - val_loss: 2.0895 - val_accuracy: 0.3147\n",
      "The model has successfully trained\n",
      "Saving the model as mnist.h5\n",
      "0.9983333333333333\n",
      "(60000, 28, 28) (60000,)\n",
      "(100, 28, 28)\n",
      "Testing with train set size of:  (100, 28, 28)\n",
      "x_train shape: (100, 28, 28, 1)\n",
      "100 train samples\n",
      "59900 test samples\n",
      "Train on 100 samples, validate on 59900 samples\n",
      "Epoch 1/10\n",
      "100/100 [==============================] - 11s 110ms/step - loss: 2.3164 - accuracy: 0.1200 - val_loss: 2.2968 - val_accuracy: 0.0846\n",
      "Epoch 2/10\n",
      "100/100 [==============================] - 11s 110ms/step - loss: 2.2703 - accuracy: 0.1600 - val_loss: 2.2828 - val_accuracy: 0.0902\n",
      "Epoch 3/10\n",
      "100/100 [==============================] - 13s 125ms/step - loss: 2.2719 - accuracy: 0.1600 - val_loss: 2.2707 - val_accuracy: 0.1091\n",
      "Epoch 4/10\n",
      "100/100 [==============================] - 11s 113ms/step - loss: 2.2414 - accuracy: 0.1600 - val_loss: 2.2476 - val_accuracy: 0.2117\n",
      "Epoch 5/10\n",
      "100/100 [==============================] - 11s 111ms/step - loss: 2.2076 - accuracy: 0.2300 - val_loss: 2.2496 - val_accuracy: 0.0933\n",
      "Epoch 6/10\n",
      "100/100 [==============================] - 11s 110ms/step - loss: 2.1697 - accuracy: 0.1400 - val_loss: 2.2068 - val_accuracy: 0.3220\n",
      "Epoch 7/10\n",
      "100/100 [==============================] - 11s 111ms/step - loss: 2.1371 - accuracy: 0.2400 - val_loss: 2.1835 - val_accuracy: 0.2524\n",
      "Epoch 8/10\n",
      "100/100 [==============================] - 11s 110ms/step - loss: 2.1929 - accuracy: 0.1800 - val_loss: 2.1306 - val_accuracy: 0.2940\n",
      "Epoch 9/10\n",
      "100/100 [==============================] - 11s 111ms/step - loss: 2.1073 - accuracy: 0.2400 - val_loss: 2.1099 - val_accuracy: 0.3899\n",
      "Epoch 10/10\n",
      "100/100 [==============================] - 11s 112ms/step - loss: 2.0289 - accuracy: 0.3300 - val_loss: 2.0646 - val_accuracy: 0.2438\n",
      "The model has successfully trained\n",
      "Saving the model as mnist.h5\n",
      "0.9966666666666667\n",
      "(60000, 28, 28) (60000,)\n",
      "(200, 28, 28)\n",
      "Testing with train set size of:  (200, 28, 28)\n",
      "x_train shape: (200, 28, 28, 1)\n",
      "200 train samples\n",
      "59800 test samples\n",
      "Train on 200 samples, validate on 59800 samples\n",
      "Epoch 1/10\n",
      "200/200 [==============================] - 11s 56ms/step - loss: 2.3104 - accuracy: 0.1400 - val_loss: 2.2722 - val_accuracy: 0.1621\n",
      "Epoch 2/10\n",
      "200/200 [==============================] - 11s 56ms/step - loss: 2.2815 - accuracy: 0.1250 - val_loss: 2.2455 - val_accuracy: 0.1652\n",
      "Epoch 3/10\n",
      "200/200 [==============================] - 11s 56ms/step - loss: 2.2431 - accuracy: 0.1750 - val_loss: 2.1959 - val_accuracy: 0.3295\n",
      "Epoch 4/10\n",
      "200/200 [==============================] - 11s 56ms/step - loss: 2.2158 - accuracy: 0.1750 - val_loss: 2.1366 - val_accuracy: 0.3347\n",
      "Epoch 5/10\n",
      "200/200 [==============================] - 11s 56ms/step - loss: 2.1412 - accuracy: 0.2700 - val_loss: 2.0484 - val_accuracy: 0.4724\n",
      "Epoch 6/10\n",
      "200/200 [==============================] - 11s 57ms/step - loss: 2.0514 - accuracy: 0.3000 - val_loss: 2.0169 - val_accuracy: 0.4694\n",
      "Epoch 7/10\n",
      "200/200 [==============================] - 11s 57ms/step - loss: 1.9584 - accuracy: 0.3550 - val_loss: 1.7468 - val_accuracy: 0.4340\n",
      "Epoch 8/10\n",
      "200/200 [==============================] - 11s 56ms/step - loss: 1.8219 - accuracy: 0.3900 - val_loss: 1.6113 - val_accuracy: 0.5756\n",
      "Epoch 9/10\n",
      "200/200 [==============================] - 11s 55ms/step - loss: 1.7650 - accuracy: 0.3750 - val_loss: 1.4213 - val_accuracy: 0.6271\n",
      "Epoch 10/10\n",
      "200/200 [==============================] - 13s 63ms/step - loss: 1.5741 - accuracy: 0.4750 - val_loss: 1.5472 - val_accuracy: 0.5056\n",
      "The model has successfully trained\n",
      "Saving the model as mnist.h5\n",
      "0.9916666666666667\n",
      "(60000, 28, 28) (60000,)\n",
      "(500, 28, 28)\n",
      "Testing with train set size of:  (500, 28, 28)\n",
      "x_train shape: (500, 28, 28, 1)\n",
      "500 train samples\n",
      "59500 test samples\n",
      "Train on 500 samples, validate on 59500 samples\n",
      "Epoch 1/10\n",
      "500/500 [==============================] - 11s 23ms/step - loss: 2.3076 - accuracy: 0.1080 - val_loss: 2.2625 - val_accuracy: 0.3400\n",
      "Epoch 2/10\n",
      "500/500 [==============================] - 11s 22ms/step - loss: 2.2440 - accuracy: 0.1940 - val_loss: 2.1444 - val_accuracy: 0.3602\n",
      "Epoch 3/10\n",
      "500/500 [==============================] - 11s 23ms/step - loss: 2.1034 - accuracy: 0.2760 - val_loss: 1.8505 - val_accuracy: 0.4889\n",
      "Epoch 4/10\n",
      "500/500 [==============================] - 11s 23ms/step - loss: 2.0048 - accuracy: 0.2820 - val_loss: 1.6085 - val_accuracy: 0.5977\n",
      "Epoch 5/10\n",
      "500/500 [==============================] - 11s 23ms/step - loss: 1.8202 - accuracy: 0.3960 - val_loss: 1.3802 - val_accuracy: 0.6231\n",
      "Epoch 6/10\n",
      "500/500 [==============================] - 11s 22ms/step - loss: 1.5079 - accuracy: 0.4900 - val_loss: 1.2848 - val_accuracy: 0.5934\n",
      "Epoch 7/10\n",
      "500/500 [==============================] - 13s 25ms/step - loss: 1.3937 - accuracy: 0.4960 - val_loss: 1.0963 - val_accuracy: 0.6105\n",
      "Epoch 8/10\n",
      "500/500 [==============================] - 11s 23ms/step - loss: 1.2117 - accuracy: 0.5880 - val_loss: 0.8153 - val_accuracy: 0.7748\n",
      "Epoch 9/10\n",
      "500/500 [==============================] - 11s 23ms/step - loss: 1.0337 - accuracy: 0.6560 - val_loss: 0.6822 - val_accuracy: 0.8230\n",
      "Epoch 10/10\n",
      "500/500 [==============================] - 11s 23ms/step - loss: 0.8794 - accuracy: 0.6940 - val_loss: 0.6743 - val_accuracy: 0.8173\n",
      "The model has successfully trained\n",
      "Saving the model as mnist.h5\n",
      "0.9875\n",
      "(60000, 28, 28) (60000,)\n",
      "(750, 28, 28)\n",
      "Testing with train set size of:  (750, 28, 28)\n",
      "x_train shape: (750, 28, 28, 1)\n",
      "750 train samples\n",
      "59250 test samples\n",
      "Train on 750 samples, validate on 59250 samples\n",
      "Epoch 1/10\n",
      "750/750 [==============================] - 12s 15ms/step - loss: 2.2534 - accuracy: 0.1840 - val_loss: 2.1428 - val_accuracy: 0.3717\n",
      "Epoch 2/10\n",
      "750/750 [==============================] - 11s 15ms/step - loss: 2.1002 - accuracy: 0.2640 - val_loss: 1.9484 - val_accuracy: 0.3626\n",
      "Epoch 3/10\n",
      "750/750 [==============================] - 11s 15ms/step - loss: 1.8879 - accuracy: 0.3720 - val_loss: 1.6295 - val_accuracy: 0.4099\n",
      "Epoch 4/10\n",
      "750/750 [==============================] - 12s 16ms/step - loss: 1.6462 - accuracy: 0.4440 - val_loss: 1.2897 - val_accuracy: 0.6484\n",
      "Epoch 5/10\n",
      "750/750 [==============================] - 13s 17ms/step - loss: 1.3872 - accuracy: 0.5320 - val_loss: 0.9015 - val_accuracy: 0.6843\n",
      "Epoch 6/10\n",
      "750/750 [==============================] - 13s 18ms/step - loss: 1.0517 - accuracy: 0.6360 - val_loss: 1.0383 - val_accuracy: 0.6209\n",
      "Epoch 7/10\n",
      "750/750 [==============================] - 14s 19ms/step - loss: 1.0098 - accuracy: 0.6667 - val_loss: 0.6633 - val_accuracy: 0.8227\n",
      "Epoch 8/10\n"
     ]
    },
    {
     "name": "stdout",
     "output_type": "stream",
     "text": [
      "750/750 [==============================] - 17s 23ms/step - loss: 0.7886 - accuracy: 0.7467 - val_loss: 0.5940 - val_accuracy: 0.8268\n",
      "Epoch 9/10\n",
      "750/750 [==============================] - 15s 21ms/step - loss: 0.7007 - accuracy: 0.7627 - val_loss: 0.4158 - val_accuracy: 0.8583\n",
      "Epoch 10/10\n",
      "750/750 [==============================] - 15s 20ms/step - loss: 0.5899 - accuracy: 0.8080 - val_loss: 0.3802 - val_accuracy: 0.8948\n",
      "The model has successfully trained\n",
      "Saving the model as mnist.h5\n",
      "0.975\n",
      "(60000, 28, 28) (60000,)\n",
      "(1500, 28, 28)\n",
      "Testing with train set size of:  (1500, 28, 28)\n",
      "x_train shape: (1500, 28, 28, 1)\n",
      "1500 train samples\n",
      "58500 test samples\n",
      "Train on 1500 samples, validate on 58500 samples\n",
      "Epoch 1/10\n",
      "1500/1500 [==============================] - 15s 10ms/step - loss: 2.2072 - accuracy: 0.1947 - val_loss: 1.9013 - val_accuracy: 0.3732\n",
      "Epoch 2/10\n",
      "1500/1500 [==============================] - 13s 9ms/step - loss: 1.7544 - accuracy: 0.4007 - val_loss: 1.0606 - val_accuracy: 0.6775\n",
      "Epoch 3/10\n",
      "1500/1500 [==============================] - 36s 24ms/step - loss: 1.2534 - accuracy: 0.5927 - val_loss: 0.6043 - val_accuracy: 0.8401\n",
      "Epoch 4/10\n",
      "1500/1500 [==============================] - 22s 15ms/step - loss: 0.8530 - accuracy: 0.7247 - val_loss: 0.4639 - val_accuracy: 0.8699\n",
      "Epoch 5/10\n",
      "1500/1500 [==============================] - 19s 13ms/step - loss: 0.6328 - accuracy: 0.7927 - val_loss: 0.3116 - val_accuracy: 0.9214\n",
      "Epoch 6/10\n",
      "1500/1500 [==============================] - 21s 14ms/step - loss: 0.4788 - accuracy: 0.8533 - val_loss: 0.2998 - val_accuracy: 0.9095\n",
      "Epoch 7/10\n",
      "1500/1500 [==============================] - 18s 12ms/step - loss: 0.4592 - accuracy: 0.8540 - val_loss: 0.2500 - val_accuracy: 0.9292\n",
      "Epoch 8/10\n",
      "1500/1500 [==============================] - 19s 13ms/step - loss: 0.3695 - accuracy: 0.8907 - val_loss: 0.1900 - val_accuracy: 0.9444\n",
      "Epoch 9/10\n",
      "1500/1500 [==============================] - 16s 11ms/step - loss: 0.3225 - accuracy: 0.9047 - val_loss: 0.1794 - val_accuracy: 0.9465\n",
      "Epoch 10/10\n",
      "1500/1500 [==============================] - 19s 13ms/step - loss: 0.3059 - accuracy: 0.8927 - val_loss: 0.1731 - val_accuracy: 0.9504\n",
      "The model has successfully trained\n",
      "Saving the model as mnist.h5\n",
      "0.9666666666666667\n",
      "(60000, 28, 28) (60000,)\n",
      "(2000, 28, 28)\n",
      "Testing with train set size of:  (2000, 28, 28)\n",
      "x_train shape: (2000, 28, 28, 1)\n",
      "2000 train samples\n",
      "58000 test samples\n",
      "Train on 2000 samples, validate on 58000 samples\n",
      "Epoch 1/10\n",
      "2000/2000 [==============================] - 26s 13ms/step - loss: 2.0774 - accuracy: 0.2600 - val_loss: 1.6593 - val_accuracy: 0.4336\n",
      "Epoch 2/10\n",
      "2000/2000 [==============================] - 20s 10ms/step - loss: 1.5096 - accuracy: 0.4860 - val_loss: 0.9159 - val_accuracy: 0.7310\n",
      "Epoch 3/10\n",
      "2000/2000 [==============================] - 27s 14ms/step - loss: 0.9820 - accuracy: 0.6715 - val_loss: 0.4638 - val_accuracy: 0.8721\n",
      "Epoch 4/10\n",
      "2000/2000 [==============================] - 17s 9ms/step - loss: 0.6042 - accuracy: 0.8100 - val_loss: 0.3571 - val_accuracy: 0.9036\n",
      "Epoch 5/10\n",
      "2000/2000 [==============================] - 17s 8ms/step - loss: 0.4602 - accuracy: 0.8515 - val_loss: 0.2423 - val_accuracy: 0.9314\n",
      "Epoch 6/10\n",
      "2000/2000 [==============================] - 18s 9ms/step - loss: 0.4168 - accuracy: 0.8725 - val_loss: 0.2137 - val_accuracy: 0.9366\n",
      "Epoch 7/10\n",
      "2000/2000 [==============================] - 19s 10ms/step - loss: 0.3285 - accuracy: 0.9035 - val_loss: 0.2567 - val_accuracy: 0.9220\n",
      "Epoch 8/10\n",
      "2000/2000 [==============================] - 17s 8ms/step - loss: 0.2838 - accuracy: 0.9110 - val_loss: 0.1748 - val_accuracy: 0.9473\n",
      "Epoch 9/10\n",
      "2000/2000 [==============================] - 15s 8ms/step - loss: 0.2354 - accuracy: 0.9350 - val_loss: 0.1536 - val_accuracy: 0.9535\n",
      "Epoch 10/10\n",
      "2000/2000 [==============================] - 19s 10ms/step - loss: 0.2111 - accuracy: 0.9425 - val_loss: 0.1629 - val_accuracy: 0.9526\n",
      "The model has successfully trained\n",
      "Saving the model as mnist.h5\n",
      "0.9166666666666666\n",
      "(60000, 28, 28) (60000,)\n",
      "(5000, 28, 28)\n",
      "Testing with train set size of:  (5000, 28, 28)\n",
      "x_train shape: (5000, 28, 28, 1)\n",
      "5000 train samples\n",
      "55000 test samples\n",
      "Train on 5000 samples, validate on 55000 samples\n",
      "Epoch 1/10\n",
      "5000/5000 [==============================] - 16s 3ms/step - loss: 1.7344 - accuracy: 0.3832 - val_loss: 1.1869 - val_accuracy: 0.6061\n",
      "Epoch 2/10\n",
      "5000/5000 [==============================] - 21s 4ms/step - loss: 0.6960 - accuracy: 0.7750 - val_loss: 0.3682 - val_accuracy: 0.8876\n",
      "Epoch 3/10\n",
      "5000/5000 [==============================] - 16s 3ms/step - loss: 0.3898 - accuracy: 0.8832 - val_loss: 0.3425 - val_accuracy: 0.8986\n",
      "Epoch 4/10\n",
      "5000/5000 [==============================] - 18s 4ms/step - loss: 0.3154 - accuracy: 0.9076 - val_loss: 0.1589 - val_accuracy: 0.9531\n",
      "Epoch 5/10\n",
      "5000/5000 [==============================] - 16s 3ms/step - loss: 0.2472 - accuracy: 0.9302 - val_loss: 0.1135 - val_accuracy: 0.9660\n",
      "Epoch 6/10\n",
      "5000/5000 [==============================] - 16s 3ms/step - loss: 0.1800 - accuracy: 0.9478 - val_loss: 0.1091 - val_accuracy: 0.9676\n",
      "Epoch 7/10\n",
      "5000/5000 [==============================] - 16s 3ms/step - loss: 0.1764 - accuracy: 0.9492 - val_loss: 0.0987 - val_accuracy: 0.9708\n",
      "Epoch 8/10\n",
      "5000/5000 [==============================] - 20s 4ms/step - loss: 0.1568 - accuracy: 0.9546 - val_loss: 0.1215 - val_accuracy: 0.9633\n",
      "Epoch 9/10\n",
      "5000/5000 [==============================] - 21s 4ms/step - loss: 0.1373 - accuracy: 0.9570 - val_loss: 0.0989 - val_accuracy: 0.9713\n",
      "Epoch 10/10\n",
      "5000/5000 [==============================] - 18s 4ms/step - loss: 0.1149 - accuracy: 0.9680 - val_loss: 0.0864 - val_accuracy: 0.9746\n",
      "The model has successfully trained\n",
      "Saving the model as mnist.h5\n",
      "0.9\n",
      "(60000, 28, 28) (60000,)\n",
      "(6000, 28, 28)\n",
      "Testing with train set size of:  (6000, 28, 28)\n",
      "x_train shape: (6000, 28, 28, 1)\n",
      "6000 train samples\n",
      "54000 test samples\n",
      "Train on 6000 samples, validate on 54000 samples\n",
      "Epoch 1/10\n",
      "6000/6000 [==============================] - 29s 5ms/step - loss: 1.5550 - accuracy: 0.4588 - val_loss: 0.6101 - val_accuracy: 0.8438\n",
      "Epoch 2/10\n",
      "6000/6000 [==============================] - 36s 6ms/step - loss: 0.5447 - accuracy: 0.8267 - val_loss: 0.2621 - val_accuracy: 0.9189\n",
      "Epoch 3/10\n",
      "6000/6000 [==============================] - 32s 5ms/step - loss: 0.3479 - accuracy: 0.8982 - val_loss: 0.1546 - val_accuracy: 0.9563\n",
      "Epoch 4/10\n",
      "6000/6000 [==============================] - 22s 4ms/step - loss: 0.2355 - accuracy: 0.9332 - val_loss: 0.1322 - val_accuracy: 0.9613\n",
      "Epoch 5/10\n",
      "6000/6000 [==============================] - 18s 3ms/step - loss: 0.1944 - accuracy: 0.9448 - val_loss: 0.1258 - val_accuracy: 0.9636\n",
      "Epoch 6/10\n",
      "6000/6000 [==============================] - 17s 3ms/step - loss: 0.1612 - accuracy: 0.9523 - val_loss: 0.1045 - val_accuracy: 0.9705\n",
      "Epoch 7/10\n",
      "6000/6000 [==============================] - 17s 3ms/step - loss: 0.1387 - accuracy: 0.9615 - val_loss: 0.1075 - val_accuracy: 0.9702\n",
      "Epoch 8/10\n",
      "6000/6000 [==============================] - 17s 3ms/step - loss: 0.1194 - accuracy: 0.9673 - val_loss: 0.1273 - val_accuracy: 0.9656\n",
      "Epoch 9/10\n",
      "6000/6000 [==============================] - 15s 3ms/step - loss: 0.1064 - accuracy: 0.9702 - val_loss: 0.0918 - val_accuracy: 0.9745\n",
      "Epoch 10/10\n",
      "6000/6000 [==============================] - 15s 3ms/step - loss: 0.0911 - accuracy: 0.9722 - val_loss: 0.0877 - val_accuracy: 0.9764\n",
      "The model has successfully trained\n",
      "Saving the model as mnist.h5\n",
      "0.8666666666666667\n",
      "(60000, 28, 28) (60000,)\n",
      "(8000, 28, 28)\n",
      "Testing with train set size of:  (8000, 28, 28)\n",
      "x_train shape: (8000, 28, 28, 1)\n",
      "8000 train samples\n",
      "52000 test samples\n",
      "Train on 8000 samples, validate on 52000 samples\n",
      "Epoch 1/10\n",
      "8000/8000 [==============================] - 17s 2ms/step - loss: 1.3156 - accuracy: 0.5556 - val_loss: 0.3227 - val_accuracy: 0.9028\n",
      "Epoch 2/10\n",
      "8000/8000 [==============================] - 17s 2ms/step - loss: 0.3936 - accuracy: 0.8819 - val_loss: 0.1865 - val_accuracy: 0.9438\n",
      "Epoch 3/10\n",
      "8000/8000 [==============================] - 19s 2ms/step - loss: 0.2570 - accuracy: 0.9281 - val_loss: 0.1347 - val_accuracy: 0.9595\n",
      "Epoch 4/10\n"
     ]
    },
    {
     "name": "stdout",
     "output_type": "stream",
     "text": [
      "8000/8000 [==============================] - 17s 2ms/step - loss: 0.1987 - accuracy: 0.9442 - val_loss: 0.1045 - val_accuracy: 0.9679\n",
      "Epoch 5/10\n",
      "8000/8000 [==============================] - 16s 2ms/step - loss: 0.1635 - accuracy: 0.9559 - val_loss: 0.0859 - val_accuracy: 0.9746\n",
      "Epoch 6/10\n",
      "8000/8000 [==============================] - 17s 2ms/step - loss: 0.1360 - accuracy: 0.9600 - val_loss: 0.0926 - val_accuracy: 0.9728\n",
      "Epoch 7/10\n",
      "8000/8000 [==============================] - 17s 2ms/step - loss: 0.1165 - accuracy: 0.9675 - val_loss: 0.0904 - val_accuracy: 0.9741\n",
      "Epoch 8/10\n",
      "8000/8000 [==============================] - 17s 2ms/step - loss: 0.1067 - accuracy: 0.9710 - val_loss: 0.0775 - val_accuracy: 0.9783\n",
      "Epoch 9/10\n",
      "8000/8000 [==============================] - 17s 2ms/step - loss: 0.0933 - accuracy: 0.9736 - val_loss: 0.0758 - val_accuracy: 0.9778\n",
      "Epoch 10/10\n",
      "8000/8000 [==============================] - 18s 2ms/step - loss: 0.0809 - accuracy: 0.9772 - val_loss: 0.0721 - val_accuracy: 0.9801\n",
      "The model has successfully trained\n",
      "Saving the model as mnist.h5\n",
      "0.8333333333333334\n",
      "(60000, 28, 28) (60000,)\n",
      "(10000, 28, 28)\n",
      "Testing with train set size of:  (10000, 28, 28)\n",
      "x_train shape: (10000, 28, 28, 1)\n",
      "10000 train samples\n",
      "50000 test samples\n",
      "Train on 10000 samples, validate on 50000 samples\n",
      "Epoch 1/10\n",
      "10000/10000 [==============================] - 21s 2ms/step - loss: 1.1668 - accuracy: 0.6028 - val_loss: 0.2206 - val_accuracy: 0.9326\n",
      "Epoch 2/10\n",
      "10000/10000 [==============================] - 18s 2ms/step - loss: 0.3261 - accuracy: 0.9065 - val_loss: 0.1557 - val_accuracy: 0.9524\n",
      "Epoch 3/10\n",
      "10000/10000 [==============================] - 18s 2ms/step - loss: 0.2056 - accuracy: 0.9399 - val_loss: 0.1727 - val_accuracy: 0.9505\n",
      "Epoch 4/10\n",
      "10000/10000 [==============================] - 18s 2ms/step - loss: 0.1532 - accuracy: 0.9549 - val_loss: 0.0951 - val_accuracy: 0.9724\n",
      "Epoch 5/10\n",
      "10000/10000 [==============================] - 18s 2ms/step - loss: 0.1271 - accuracy: 0.9629 - val_loss: 0.0777 - val_accuracy: 0.9777\n",
      "Epoch 6/10\n",
      "10000/10000 [==============================] - 19s 2ms/step - loss: 0.1088 - accuracy: 0.9691 - val_loss: 0.0797 - val_accuracy: 0.9768\n",
      "Epoch 7/10\n",
      "10000/10000 [==============================] - 19s 2ms/step - loss: 0.0950 - accuracy: 0.9714 - val_loss: 0.0803 - val_accuracy: 0.9782\n",
      "Epoch 8/10\n",
      "10000/10000 [==============================] - 18s 2ms/step - loss: 0.0917 - accuracy: 0.9735 - val_loss: 0.0692 - val_accuracy: 0.9803\n",
      "Epoch 9/10\n",
      "10000/10000 [==============================] - 18s 2ms/step - loss: 0.0731 - accuracy: 0.9807 - val_loss: 0.0674 - val_accuracy: 0.9815\n",
      "Epoch 10/10\n",
      "10000/10000 [==============================] - 18s 2ms/step - loss: 0.0677 - accuracy: 0.9801 - val_loss: 0.0674 - val_accuracy: 0.9819\n",
      "The model has successfully trained\n",
      "Saving the model as mnist.h5\n",
      "{(50, 28, 28, 1): {0.5, 0.31466221809387207, 2.0894996166587174}, (100, 28, 28, 1): {0.2437562644481659, 1.0, 2.0646291563069084}, (200, 28, 28, 1): {0.505551815032959, 1.5472103066587926, 2.0}, (500, 28, 28, 1): {0.6743313425649115, 0.8173277378082275, 5.0}, (750, 28, 28, 1): {0.380232447451177, 0.8948354721069336, 7.5}, (1500, 28, 28, 1): {0.17309733860092794, 0.9504444599151611, 15.0}, (2000, 28, 28, 1): {0.16287119126576802, 0.9526034593582153, 20.0}, (5000, 28, 28, 1): {0.08644882391649722, 0.9745818376541138, 50.0}, (6000, 28, 28, 1): {0.08765026831800221, 0.9764259457588196, 60.0}, (8000, 28, 28, 1): {80.0, 0.9801346063613892, 0.07211403718022764}, (10000, 28, 28, 1): {0.06744647461744258, 0.9818800091743469, 100.0}}\n"
     ]
    }
   ],
   "source": [
    "summary_values = {}\n",
    "\n",
    "#Takes increasingly more images to increase the accuracy\n",
    "training_sets = [50, 100, 200, 500, 750, 1500, 2000, 5000, 6000, 8000, 10000]\n",
    "j = 0\n",
    "column_names = [\"Amount of Training images\", \"Accuracy\"]\n",
    "df = pd.DataFrame(columns = column_names, index = [1, 2, 3, 4, 5, 6, 7, 8, 9, 10, 11])\n",
    "\n",
    "for test_per in training_sets:\n",
    "    training_per = 1- (test_per/60000) #calculation is giving the test percentage\n",
    "    print(training_per)\n",
    "    x_train, y_train, x_test, y_test = load_mnist_data(training_per)\n",
    "    print('Testing with train set size of: ', x_train.shape)\n",
    "    x_train, y_train, x_test, y_test = prepare_input(x_train, y_train, x_test, y_test)\n",
    "    score = setup_model(x_train, y_train, x_test, y_test)\n",
    "    summary_values[x_train.shape] = {test_per/100, score[0], score[1]}\n",
    "    i = [1, 2, 3, 4, 5, 6, 7, 8, 9, 10, 11, 12]\n",
    "    new_data_list = [test_per, score[1]]\n",
    "    df.loc[i[j]] = new_data_list\n",
    "    j += 1\n",
    "\n",
    "\n",
    "print(summary_values)"
   ]
  },
  {
   "cell_type": "markdown",
   "metadata": {},
   "source": [
    "This is the final step for this project and does not involve much. The three main things that are part of this step are the variables summary_values, training_sets and the for loop. The variable summary_values is a dictionary variable that allows for the ending data for each training size to be collected and stored safely. This variable is printed at the end to allow for easy data collection. The variable training_sets is used in conjunction with the for loop to iterate through each amount of training images. The variable test_per is being iterated with each value in the array training_sets and is converted into a percentage to be put into the function load_mnist_data and specify what percent of the images are training. The results of the project are displayed above and the data table and graphs are made and printed down below"
   ]
  },
  {
   "cell_type": "markdown",
   "metadata": {},
   "source": [
    "## Data Table:"
   ]
  },
  {
   "cell_type": "code",
   "execution_count": 6,
   "metadata": {},
   "outputs": [
    {
     "name": "stdout",
     "output_type": "stream",
     "text": [
      "   Amount of Training images  Accuracy\n",
      "1                         50  0.314662\n",
      "2                        100  0.243756\n",
      "3                        200  0.505552\n",
      "4                        500  0.817328\n",
      "5                        750  0.894835\n",
      "6                       1500  0.950444\n",
      "7                       2000  0.952603\n",
      "8                       5000  0.974582\n",
      "9                       6000  0.976426\n",
      "10                      8000  0.980135\n",
      "11                     10000   0.98188\n"
     ]
    }
   ],
   "source": [
    "print(df)"
   ]
  },
  {
   "cell_type": "markdown",
   "metadata": {},
   "source": [
    "## Graph:"
   ]
  },
  {
   "cell_type": "code",
   "execution_count": 12,
   "metadata": {},
   "outputs": [
    {
     "data": {
      "image/png": "[encoded data removed]",
      "text/plain": [
       "<Figure size 1440x720 with 1 Axes>"
      ]
     },
     "metadata": {
      "needs_background": "light"
     },
     "output_type": "display_data"
    }
   ],
   "source": [
    "#Line Graph\n",
    "line_graph = df.plot(kind='line',x='Amount of Training images',y='Accuracy',color='red',  xticks=[0,500,1000,1500,2000,2500,3000,3500,4000,4500,5000,5500,6000,6500,7000,7500,8000,8500,9000,9500,10000], \n",
    "        yticks=[0.5,0.10,0.15,0.20,0.25,0.30,0.35,0.40,0.45,0.50,0.55,0.60,0.65,0.70,0.75,0.80,0.85,0.90,0.95,1.00], figsize=(20,10))\n",
    "line_graph.set(title=\"How changing the amount of Training data impacts the accuracy\", xlabel=\"Amount of training images\", ylabel=\"Accuracy\")\n",
    "plt.show()\n"
   ]
  },
  {
   "cell_type": "markdown",
   "metadata": {},
   "source": [
    "## Conclusion"
   ]
  },
  {
   "cell_type": "markdown",
   "metadata": {},
   "source": [
    "This project was a very interesting project overall. The big takeaways from this project were that the more training data that a machine learning algorithm is provided with, the higher the accuracy is. Machine learning algorithms are also highly sensitive to patterns and at any moment a slight pattern emerges, the algorithm shifts to accomodate that pattern. The hypothesis was also proven right with the results showing a drastic, and highly noticeable difference between the first training set of 100, and the last training set of 50,000, which got to 99% accuracy. All of this serves to quantify the notion that machines need a lot of examples and time to to learn/understand what they are looking at, and apply that to test images. The first training sets had very low accuracy, and this was because it was being tested on something it might not even have seen."
   ]
  },
  {
   "cell_type": "markdown",
   "metadata": {},
   "source": [
    "## Future Applications"
   ]
  },
  {
   "cell_type": "markdown",
   "metadata": {},
   "source": [
    "This project is just a stepping stone into the world of machine leearning. Machine learning and artificial intelligence have huge applications in the future, allowing for humans to take a backseat in  the world and allow computers to do more and more things for us. Machine learning works extremely similarly to a human brain. Neural networks are just very, very small simulations of actual neurons in the brain. This project used just one kind of neural network, a convolutional neural network. However, there are a lot of differing kinds of neural networks that allow for increasingly complicated and better implementations of artificial intelligence for purposes as varied as facial recognition and YouTube ads."
   ]
  },
  {
   "cell_type": "markdown",
   "metadata": {},
   "source": [
    "## Link for the same project but in Visual studio code for ease of copying and pasting:"
   ]
  },
  {
   "cell_type": "markdown",
   "metadata": {},
   "source": [
    "https://github.com/Harshith0307/Machine_Learning/blob/master/minst_handwriting.py\n",
    "\n",
    "You can copy and paste this into Visual Studio Code, and if all the packages are installed, it will work."
   ]
  },
  {
   "cell_type": "markdown",
   "metadata": {},
   "source": [
    "##  Bibliography for all of the information used in this project:"
   ]
  },
  {
   "cell_type": "markdown",
   "metadata": {},
   "source": [
    "Numerical analysis. (2020). In Encyclopædia Britannica. Retrieved from https://school.eb.com/levels/high/article/numerical-analysis/108506#\n",
    "\n",
    "Published in Encyclopedia Britannica, this article discusses numerical analysis and all its applications. The main focus of this article is numerical analysis’ use in computer science and data science applications. This details numerical regressions and algorithms that are regularly used to find correlations within data sets and serve as a basis for almost all machine learning algorithms.\n",
    "\n",
    "Encyclopedia Britannica, the publisher of the article, is a British encyclopedia publisher that has long been renowned for having extremely neutral and unbiased content. Britannica has been publishing since 1768 and is a reliable source of information for research purposes.\n",
    "\n",
    "\n",
    "\n",
    "\n",
    "\n",
    "Understanding How Python is Used in Data Science. (n.d.). Retrieved January 25, 2020, from https://www.datasciencegraduateprograms.com/python/ \n",
    "\n",
    "Published on Data Science Graduate Programs, this article discusses the uses of Python within the realm of data science. Python is an object-oriented programming language that is used in data science for its versatility, and ease of operating with additional libraries for an overall very simple approach to data science and machine learning. This article outlines the uses of Python in Data Science and how python efficiently and effectively fulfills that goal.\n",
    "\n",
    "Data Science Graduate Programs is a California based website staffed by professors in California. It serves as a website to get high school graduates into college for data science and outlines the positives of the data science career. It is a reliable and unbiased source and has been publishing since 2011.\n",
    "\n",
    "\n",
    "\n",
    "\n",
    "\n",
    "Brownlee, Jason. (2019, August 9). Introduction to Matrices and Matrix Arithmetic for Machine Learning. Retrieved February 2, 2020, from https://machinelearningmastery.com/introduction-matrices-machine-learning/\n",
    "\n",
    "Matrices are a fundamental element in linear algebra. They are used widely in the realm of machine learning especially in the input data variable(x) to train the algorithm. A matrix is at its lowest complexity, an array within an array with columns and rows. Matrices can be used in arithmetic operations as well and have been made greatly easier by python libraries such as pandas, and NumPy.\n",
    "\n",
    "Jason Brownlee Ph.D. is a professional python developer and machine learning practitioner. He started writing a series of articles about machine learning with python because he wants to get new developers started in machine learning and get them good fast. \n",
    "\n",
    "\n",
    "\n",
    "\n",
    "\n",
    "General Python FAQ¶. (n.d.). Retrieved January 25, 2020, from https://docs.python.org/2/faq/general.html#what-is-python \n",
    "\n",
    "Python is an object-oriented language. It is a high-level programming language that incorporates a large number of modules, libraries, classes and has a lot of the features that make other programming languages like C, C#, and Java popular. Python is also a portable programming language like Java and can be used on almost all kinds of software.\n",
    "\n",
    "Python.org is a nonprofit website created to house the python documentation, its source code, and other frequently asked questions about python. It also has sections written by and sections with interviews with the original creator of python, Guido Van Rossum.\n",
    "\n",
    "\n",
    "\n",
    "\n",
    "\n",
    "Dataman. (2019, November 20). What Is Image Recognition? Retrieved February 2, 2020, from https://towardsdatascience.com/module-6-image-recognition-for-insurance-claim-handling-part-i-a338d16c9de0\n",
    "\n",
    "Image recognition is exactly what it sounds like. It is the recognition of images. The human brain makes this really easy, but computers, on the other hand, don’t have the intuition that humans have to recognize and evaluate images. There are 4 steps that are required to teach computers how to recognize images. First, all images are made up of pixels and you need to extract them from the image. Secondly, classify those pixels into labeled data sets. Thirdly, the hardest step, train the machine to be able to recognize images. lastly, Predict a new image that classifies under one of the categories. \n",
    "\n",
    "Towards Data Science us an online journal about machine learning, and artificial intelligence written by a variety of authors who are experts in the topic. They strive to provide well written and informative articles that their audience wants to read. \n",
    "\n",
    "\n",
    "\n",
    "\n",
    "\n",
    "About pandas. (n.d.). Retrieved February 2, 2020, from https://pandas.pydata.org/about/index.html\n",
    "\n",
    "Pandas is a language library written for the Python programming language. It is mainly a data science library with many applications for machine learning and artificial intelligence. Pandas mainly deals with matrices and large data sets. Pandas is also open source so any developer can suit it to his or her needs.\n",
    "\n",
    "Pandas aims to be the fundamental high-level building block for doing practical data analysis in Python. Additionally, it has the broader goal of becoming a powerful and flexible open-source data analysis/manipulation tool available in any language.\n",
    "\n",
    "\n",
    "\n",
    "\n",
    "Saha, S. (2018, December 17). A Comprehensive Guide to Convolutional Neural Networks - the ELI5 way. Retrieved March 17, 2020, from https://towardsdatascience.com/a-comprehensive-guide-to-convolutional-neural-networks-the-eli5-way-3bd2b1164a53\n",
    "\n",
    "The image of the convolutional neural network at the top of the article is used.\n",
    "\n",
    "\n",
    "\n",
    "\n",
    "Yal, O. G. (2020, March 4). Image Classification in 10 Minutes with MNIST Dataset. Retrieved March 17, 2020, from https://towardsdatascience.com/image-classification-in-10-minutes-with-mnist-dataset-54c35b77a38d\n",
    "\n",
    "An image of the mnist database from the article is used to illustrate how the database's images look\n",
    "\n",
    "\n",
    "\n",
    "\n",
    "\n",
    "Bhattarai, S. (2018, September 4). What is Gradient Descent in machine learning? Retrieved March 17, 2020, from https://saugatbhattarai.com.np/what-is-gradient-descent-in-machine-learning/\n",
    "\n",
    "An image of gradiel descent is used from the article."
   ]
  }
 ],
 "metadata": {
  "kernelspec": {
   "display_name": "Python 3",
   "language": "python",
   "name": "python3"
  },
  "language_info": {
   "codemirror_mode": {
    "name": "ipython",
    "version": 3
   },
   "file_extension": ".py",
   "mimetype": "text/x-python",
   "name": "python",
   "nbconvert_exporter": "python",
   "pygments_lexer": "ipython3",
   "version": "3.7.6"
  }
 },
 "nbformat": 4,
 "nbformat_minor": 4
}
